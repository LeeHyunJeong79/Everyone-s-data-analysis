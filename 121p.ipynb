{
 "cells": [
  {
   "cell_type": "code",
   "execution_count": 10,
   "id": "a59365bf",
   "metadata": {},
   "outputs": [
    {
     "name": "stdout",
     "output_type": "stream",
     "text": [
      "인구 구조가 알고 싶은 지역의 이름(읍면동 단위)을 입력해주세요:한림읍\n"
     ]
    },
    {
     "data": {
      "image/png": "[encoded data removed]",
      "text/plain": [
       "<Figure size 432x288 with 1 Axes>"
      ]
     },
     "metadata": {
      "needs_background": "light"
     },
     "output_type": "display_data"
    }
   ],
   "source": [
    "import csv\n",
    "f=open('gender.csv')\n",
    "data=csv.reader(f)\n",
    "m=[]\n",
    "f=[]\n",
    "\n",
    "city=input(\"인구 구조가 알고 싶은 지역의 이름(읍면동 단위)을 입력해주세요:\")\n",
    "\n",
    "for row in data:\n",
    "    if city in row[0]:\n",
    "        for i in range(0,101):\n",
    "            m.append(-int(row[i+3])) #남성 데이터 방향을 바꿔줌\n",
    "            f.append(int(row[-(i+1)]))\n",
    "f.reverse()\n",
    "#print(m)\n",
    "#print(f)\n",
    "\n",
    "import matplotlib.pyplot as plt\n",
    "plt.rc('font',family='Malgun Gothic')\n",
    "plt.rcParams['axes.unicode_minus']=False #그래프의 음수(-)기호 깨짐현상 방지 \n",
    "plt.title('신도림 지역의 남녀 성별 인구 분포')\n",
    "plt.barh(range(101),m,label='남성')\n",
    "plt.barh(range(101),f,label='여성')\n",
    "plt.legend()\n",
    "plt.show()"
   ]
  },
  {
   "cell_type": "code",
   "execution_count": null,
   "id": "b6e71448",
   "metadata": {},
   "outputs": [],
   "source": []
  }
 ],
 "metadata": {
  "kernelspec": {
   "display_name": "Python 3",
   "language": "python",
   "name": "python3"
  },
  "language_info": {
   "codemirror_mode": {
    "name": "ipython",
    "version": 3
   },
   "file_extension": ".py",
   "mimetype": "text/x-python",
   "name": "python",
   "nbconvert_exporter": "python",
   "pygments_lexer": "ipython3",
   "version": "3.8.8"
  }
 },
 "nbformat": 4,
 "nbformat_minor": 5
}
