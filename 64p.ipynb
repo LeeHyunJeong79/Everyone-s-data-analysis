{
 "cells": [
  {
   "cell_type": "code",
   "execution_count": 1,
   "metadata": {},
   "outputs": [
    {
     "name": "stdout",
     "output_type": "stream",
     "text": [
      "['날짜', '지점', '평균기온(℃)', '최저기온(℃)', '최고기온(℃)']\n",
      "['2020-12-25', '108', '-0.8', '-4.7', '3.5']\n",
      "['2020-12-26', '108', '2.2', '-2.1', '8']\n",
      "['2020-12-27', '108', '5.8', '1.4', '10']\n",
      "['2020-12-28', '108', '6.7', '4.2', '11.4']\n",
      "['2020-12-29', '108', '0.1', '-6.2', '4.3']\n",
      "['2020-12-30', '108', '-10.9', '-12.9', '-6.2']\n",
      "['2020-12-31', '108', '-8.9', '-12.9', '-5']\n",
      "['2021-01-01', '108', '-4.2', '-9.8', '1.6']\n",
      "['2021-01-02', '108', '-5', '-8.4', '-1.4']\n",
      "['2021-01-03', '108', '-5.6', '-9.1', '-2']\n",
      "['2021-01-04', '108', '-3.5', '-8.4', '0.3']\n",
      "['2021-01-05', '108', '-5.5', '-9.9', '-2.1']\n",
      "['2021-01-06', '108', '-7.4', '-12', '-1.9']\n",
      "['2021-01-07', '108', '-14.5', '-16.5', '-8.4']\n",
      "['2021-01-08', '108', '-14.9', '-18.6', '-10.7']\n",
      "['2021-01-09', '108', '-12.2', '-16.6', '-7.5']\n",
      "['2021-01-10', '108', '-7.7', '-12.8', '-2.7']\n",
      "['2021-01-11', '108', '-6.7', '-9.6', '-4']\n",
      "['2021-01-12', '108', '-3.9', '-9.3', '-0.5']\n",
      "['2021-01-13', '108', '2', '-3', '8.3']\n",
      "['2021-01-14', '108', '1.7', '-3.6', '7']\n",
      "['2021-01-15', '108', '4.5', '-0.7', '9.9']\n",
      "['2021-01-16', '108', '-4.9', '-8.7', '-0.7']\n",
      "['2021-01-17', '108', '-5.5', '-10.8', '-1.3']\n",
      "['2021-01-18', '108', '-3.8', '-9.1', '0.2']\n",
      "['2021-01-19', '108', '-6.3', '-11.6', '-0.2']\n",
      "['2021-01-20', '108', '-0.1', '-6.6', '7.1']\n",
      "['2021-01-21', '108', '4.5', '2.5', '7']\n",
      "['2021-01-22', '108', '5.5', '4.8', '6.6']\n",
      "['2021-01-23', '108', '7.6', '4.8', '12.2']\n"
     ]
    }
   ],
   "source": [
    "import csv\n",
    "f=open('seoul.csv')\n",
    "data=csv.reader(f)\n",
    "for row in data:\n",
    "    print(row)"
   ]
  },
  {
   "cell_type": "code",
   "execution_count": 3,
   "metadata": {},
   "outputs": [
    {
     "name": "stdout",
     "output_type": "stream",
     "text": [
      "3.5\n",
      "8\n",
      "10\n",
      "11.4\n",
      "4.3\n",
      "-6.2\n",
      "-5\n",
      "1.6\n",
      "-1.4\n",
      "-2\n",
      "0.3\n",
      "-2.1\n",
      "-1.9\n",
      "-8.4\n",
      "-10.7\n",
      "-7.5\n",
      "-2.7\n",
      "-4\n",
      "-0.5\n",
      "8.3\n",
      "7\n",
      "9.9\n",
      "-0.7\n",
      "-1.3\n",
      "0.2\n",
      "-0.2\n",
      "7.1\n",
      "7\n",
      "6.6\n",
      "12.2\n"
     ]
    }
   ],
   "source": [
    "import csv\n",
    "f=open('seoul.csv')\n",
    "data=csv.reader(f)\n",
    "next(data)\n",
    "for row in data:\n",
    "    print(row[-1])"
   ]
  },
  {
   "cell_type": "code",
   "execution_count": 4,
   "metadata": {},
   "outputs": [
    {
     "name": "stdout",
     "output_type": "stream",
     "text": [
      "[3.5, 8.0, 10.0, 11.4, 4.3, -6.2, -5.0, 1.6, -1.4, -2.0, 0.3, -2.1, -1.9, -8.4, -10.7, -7.5, -2.7, -4.0, -0.5, 8.3, 7.0, 9.9, -0.7, -1.3, 0.2, -0.2, 7.1, 7.0, 6.6, 12.2]\n"
     ]
    }
   ],
   "source": [
    "import csv\n",
    "f=open('seoul.csv')\n",
    "data=csv.reader(f)\n",
    "next(data)\n",
    "result=[]\n",
    "for row in data:\n",
    "    if row[-1]!='':\n",
    "        result.append(float(row[-1]))\n",
    "print(result)"
   ]
  },
  {
   "cell_type": "code",
   "execution_count": 8,
   "metadata": {},
   "outputs": [
    {
     "name": "stdout",
     "output_type": "stream",
     "text": [
      "[3.5, 8.0, 10.0, 11.4, 4.3, -6.2, -5.0, 1.6, -1.4, -2.0, 0.3, -2.1, -1.9, -8.4, -10.7, -7.5, -2.7, -4.0, -0.5, 8.3, 7.0, 9.9, -0.7, -1.3, 0.2, -0.2, 7.1, 7.0, 6.6, 12.2]\n"
     ]
    },
    {
     "data": {
      "image/png": "[encoded data removed]",
      "text/plain": [
       "<Figure size 432x288 with 1 Axes>"
      ]
     },
     "metadata": {
      "needs_background": "light"
     },
     "output_type": "display_data"
    }
   ],
   "source": [
    "import csv\n",
    "import matplotlib.pyplot as plt\n",
    "import csv\n",
    "f=open('seoul.csv')\n",
    "data=csv.reader(f)\n",
    "next(data)\n",
    "result=[]\n",
    "for row in data:\n",
    "    if row[-1]!='':\n",
    "        result.append(float(row[-1]))\n",
    "print(result)\n",
    "plt.plot(result,'r')\n",
    "plt.show()"
   ]
  },
  {
   "cell_type": "code",
   "execution_count": null,
   "metadata": {},
   "outputs": [],
   "source": []
  }
 ],
 "metadata": {
  "kernelspec": {
   "display_name": "Python 3",
   "language": "python",
   "name": "python3"
  },
  "language_info": {
   "codemirror_mode": {
    "name": "ipython",
    "version": 3
   },
   "file_extension": ".py",
   "mimetype": "text/x-python",
   "name": "python",
   "nbconvert_exporter": "python",
   "pygments_lexer": "ipython3",
   "version": "3.8.8"
  }
 },
 "nbformat": 4,
 "nbformat_minor": 4
}
