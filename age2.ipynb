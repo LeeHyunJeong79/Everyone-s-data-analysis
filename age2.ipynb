{
 "cells": [
  {
   "cell_type": "code",
   "execution_count": null,
   "metadata": {},
   "outputs": [],
   "source": [
    "#age2_2\n",
    "import csv\n",
    "f=open('age2.csv')\n",
    "data=csv.reader(f)\n",
    "\n",
    "header=next(data) #헤더(연령대) 저장\n",
    "max=0\n",
    "max_header=''\n",
    "\n",
    "for row in data: \n",
    "    if '군포시' in row[0]: #군포시가 들어간 행 검색 \n",
    "        for a in range(3,24): #군포시에서 각 연령대 검색\n",
    "            if max < int(row[a]):\n",
    "                max=int(row[a])\n",
    "                max_header=header[a]\n",
    "print(\"군포시에는 %s 연령대가 %d명으로 가장 많이 거주하고 있습니다.\"%(max_header,max))"
   ]
  },
  {
   "cell_type": "code",
   "execution_count": 3,
   "metadata": {},
   "outputs": [
    {
     "name": "stdout",
     "output_type": "stream",
     "text": [
      "검색하고자하는 도시를 입력하세요.서울\n",
      "서울특별시  (1100000000)에는 2021년05월_계_25~29세 연령대가 826125명으로 가장 많이 거주하고 있습니다.\n",
      "서울특별시  (1100000000)에서 2021년05월_계_25~29세 연령대가 8.63 % 거주하고 있습니다.\n"
     ]
    }
   ],
   "source": [
    "#age2_3\n",
    "import csv\n",
    "f=open('age2.csv')#시군구 5살단위\n",
    "data=csv.reader(f)\n",
    "header=next(data) #헤더(연령대) 저장\n",
    "\n",
    "max=0\n",
    "max_header=''\n",
    "#max_a=0\n",
    "max_area=''\n",
    "\n",
    "area=input(\"검색하고자하는 도시를 입력하세요.\")\n",
    "sum=0 #해당 시 전체인원\n",
    "for row in data: \n",
    "    if area in row[0]: #군포시가 들어간 행 검색 \n",
    "        for a in range(3,24): #군포시에서 각 연령대 검색\n",
    "            if max < int(row[a]):\n",
    "                max=int(row[a])\n",
    "                max_header=header[a]\n",
    "                max_area=row[0]\n",
    "                #max_a=a\n",
    "                sum=int(row[1])\n",
    "                \n",
    "print(\"%s에는 %s 연령대가 %d명으로 가장 많이 거주하고 있습니다.\"%(max_area,max_header,max))\n",
    "print(\"%s에서 %s 연령대가 %.2f %% 거주하고 있습니다.\"%(max_area,max_header,max/sum*100))\n",
    "f.close()"
   ]
  },
  {
   "cell_type": "code",
   "execution_count": 5,
   "metadata": {},
   "outputs": [
    {
     "name": "stdout",
     "output_type": "stream",
     "text": [
      "검색하고자하는 도시를 입력하세요.궁내\n",
      "경기도 군포시 궁내동(4141060000)에는 2021년05월_계_45~49세 연령대가 2310명으로 가장 많이 거주하고 있습니다.\n",
      "경기도 군포시 궁내동(4141060000)에서 2021년05월_계_45~49세 연령대가 11.09 % 거주하고 있습니다.\n",
      "경기도 군포시 궁내동(4141060000)에는 2021년05월_계_45~49세 연령대가 전국에서 0.05 % 거주하고 있습니다.\n"
     ]
    }
   ],
   "source": [
    "#age2_4\n",
    "import csv\n",
    "f=open('age2.csv')#시군구 5살단위\n",
    "data=csv.reader(f)\n",
    "header=next(data) #헤더(연령대) 저장\n",
    "\n",
    "max=0\n",
    "max_header=''\n",
    "max_a=0\n",
    "max_area=''\n",
    "\n",
    "area=input(\"검색하고자하는 도시를 입력하세요.\")\n",
    "\n",
    "for row in data: \n",
    "    if area in row[0]: #군포시가 들어간 행 검색 \n",
    "        for a in range(3,24): #군포시에서 각 연령대 검색\n",
    "            if max < int(row[a]):\n",
    "                max=int(row[a])\n",
    "                max_header=header[a]\n",
    "                max_area=row[0]\n",
    "                max_a=a  #최고 인구연령이 저장된 열번호 저장\n",
    "                sum=int(row[1])\n",
    "                \n",
    "print(\"%s에는 %s 연령대가 %d명으로 가장 많이 거주하고 있습니다.\"%(max_area,max_header,max))\n",
    "print(\"%s에서 %s 연령대가 %.2f %% 거주하고 있습니다.\"%(max_area,max_header,max/sum*100))\n",
    "f.close()\n",
    "\n",
    "import csv\n",
    "f=open('age3.csv')#도단위 5살단위\n",
    "data=csv.reader(f)\n",
    "header=next(data) #헤더(연령대) 저장\n",
    "for row in data:\n",
    "    if '전국' in row[0]:\n",
    "        print(\"%s에는 %s 연령대가 전국에서 %.2f %% 거주하고 있습니다.\"%(max_area,max_header,max/int(row[max_a])*100))\n",
    "f.close()"
   ]
  },
  {
   "cell_type": "code",
   "execution_count": 4,
   "metadata": {},
   "outputs": [
    {
     "name": "stdout",
     "output_type": "stream",
     "text": [
      "80세 이상 연령대가 가장 많이 살고 있는 지역:경기도  (4100000000)\n",
      "80세 이상 연령대가 가장 많이 살고 있는 지역의 80세 이상 인구수:410019\n",
      "\n",
      "고령화 비율이 가장 높은 지역:%s 전라남도  (4600000000)\n",
      "고령화 비율이 가장 높은 지역의 고령화 비율:6.97\n"
     ]
    }
   ],
   "source": [
    "# age2_1 인구 공공데이터\n",
    "import csv\n",
    "f=open('age1.csv')\n",
    "data=csv.reader(f)\n",
    "\n",
    "header=next(data)\n",
    "\n",
    "max_age=0 #최고 고령화 인구수\n",
    "max_rate=0 #최고 고령화 비율\n",
    "area_age=\"\" # 고령화 인구가 많은 지역명\n",
    "area_rate=\"\"# 고령화 비율이 높은 지역명\n",
    "sum=0   #고령화 인구수\n",
    "rate=0   #고령화비율(전체인구수/80세이상 인구수*100)\n",
    "\n",
    "#row[-1]:100세 이상, row[-2]:90~99세, row[-3]:80~89 에 저장되어 있음\n",
    "for row in data:\n",
    "    sum=0 #지역별 인구수 초기화\n",
    "    \n",
    "    if row[-1]=='':\n",
    "        row[-1]=0\n",
    "    if row[-2]=='':\n",
    "        row[-2]=0\n",
    "    if row[-3]=='':\n",
    "        row[-3]=0\n",
    "  \n",
    "    sum=int(row[-1])+int(row[-2])+int(row[-3]) #해당지역의 고령화 인구 수\n",
    "    \n",
    "    rate=sum/int(row[1])*100 #고령화 비율\n",
    "    \n",
    "    if rate > max_rate: #최대 고령화 비율과 지역 구하기\n",
    "        max_rate=rate\n",
    "        area_rate=row[0]\n",
    "        \n",
    "    if sum > max_age: #가장 많은 고령화 인구수와 지역 구하기\n",
    "        max_age=sum\n",
    "        area_age=row[0]\n",
    "\n",
    "print(\"80세 이상 연령대가 가장 많이 살고 있는 지역:%s\"%area_age)\n",
    "print(\"80세 이상 연령대가 가장 많이 살고 있는 지역의 80세 이상 인구수:%d\"%max_age)  \n",
    "print()\n",
    "print(\"고령화 비율이 가장 높은 지역:%s\",area_rate)\n",
    "print(\"고령화 비율이 가장 높은 지역의 고령화 비율:%.2f\"%max_rate) \n",
    "\n",
    "f.close()"
   ]
  },
  {
   "cell_type": "code",
   "execution_count": null,
   "metadata": {},
   "outputs": [],
   "source": []
  }
 ],
 "metadata": {
  "kernelspec": {
   "display_name": "Python 3",
   "language": "python",
   "name": "python3"
  },
  "language_info": {
   "codemirror_mode": {
    "name": "ipython",
    "version": 3
   },
   "file_extension": ".py",
   "mimetype": "text/x-python",
   "name": "python",
   "nbconvert_exporter": "python",
   "pygments_lexer": "ipython3",
   "version": "3.8.5"
  }
 },
 "nbformat": 4,
 "nbformat_minor": 4
}
