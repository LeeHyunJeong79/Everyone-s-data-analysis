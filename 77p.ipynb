{
 "cells": [
  {
   "cell_type": "code",
   "execution_count": 3,
   "metadata": {},
   "outputs": [
    {
     "data": {
      "image/png": "[encoded data removed]",
      "text/plain": [
       "<Figure size 432x288 with 1 Axes>"
      ]
     },
     "metadata": {
      "needs_background": "light"
     },
     "output_type": "display_data"
    }
   ],
   "source": [
    "import matplotlib.pyplot as plt\n",
    "plt.hist([1,1,2,3,4,5,6,6,7,8,10])\n",
    "plt.show()"
   ]
  },
  {
   "cell_type": "code",
   "execution_count": 7,
   "metadata": {},
   "outputs": [
    {
     "data": {
      "image/png": "[encoded data removed]",
      "text/plain": [
       "<Figure size 432x288 with 1 Axes>"
      ]
     },
     "metadata": {
      "needs_background": "light"
     },
     "output_type": "display_data"
    },
    {
     "name": "stdout",
     "output_type": "stream",
     "text": [
      "[3, 5, 2, 2, 6, 4, 1, 3, 3, 1]\n"
     ]
    }
   ],
   "source": [
    "import random\n",
    "dice=[]\n",
    "for i in range(10):\n",
    "    dice.append(random.randint(1,6))\n",
    "plt.hist(dice)\n",
    "plt.show()\n",
    "print(dice)"
   ]
  },
  {
   "cell_type": "code",
   "execution_count": 10,
   "metadata": {},
   "outputs": [
    {
     "data": {
      "image/png": "[encoded data removed]",
      "text/plain": [
       "<Figure size 432x288 with 1 Axes>"
      ]
     },
     "metadata": {
      "needs_background": "light"
     },
     "output_type": "display_data"
    },
    {
     "name": "stdout",
     "output_type": "stream",
     "text": [
      "[5, 4, 2, 5, 4, 3, 5, 3, 4, 4]\n"
     ]
    }
   ],
   "source": [
    "import random\n",
    "dice=[]\n",
    "for i in range(10):\n",
    "    dice.append(random.randint(1,6))\n",
    "plt.hist(dice,bins=6)\n",
    "plt.show()\n",
    "print(dice)"
   ]
  },
  {
   "cell_type": "code",
   "execution_count": 19,
   "metadata": {},
   "outputs": [
    {
     "data": {
      "image/png": "[encoded data removed]",
      "text/plain": [
       "<Figure size 432x288 with 1 Axes>"
      ]
     },
     "metadata": {
      "needs_background": "light"
     },
     "output_type": "display_data"
    },
    {
     "name": "stdout",
     "output_type": "stream",
     "text": [
      "[5, 3, 2, 2, 1, 4, 2, 6, 2, 5, 2, 2, 3, 6, 1, 3, 4, 4, 6, 4, 1, 3, 6, 4, 3, 5, 1, 1, 6, 2, 1, 3, 4, 6, 1, 1, 5, 2, 4, 4, 6, 3, 4, 5, 5, 3, 4, 6, 3, 4, 6, 1, 5, 3, 6, 5, 6, 5, 3, 3, 3, 6, 6, 6, 6, 1, 3, 3, 1, 1, 2, 2, 5, 6, 6, 5, 4, 1, 2, 1, 5, 2, 4, 3, 6, 4, 2, 3, 1, 5, 1, 2, 3, 3, 4, 1, 2, 2, 1, 3, 1, 6, 5, 6, 3, 1, 6, 1, 1, 3, 5, 3, 5, 6, 2, 4, 4, 6, 3, 6, 1, 1, 2, 1, 6, 6, 6, 2, 6, 1, 2, 5, 3, 1, 4, 1, 6, 4, 5, 5, 1, 2, 1, 5, 6, 1, 6, 5, 3, 5, 6, 6, 4, 6, 5, 1, 2, 3, 3, 1, 5, 2, 1, 3, 6, 6, 1, 6, 3, 4, 2, 1, 2, 4, 6, 3, 5, 1, 3, 5, 6, 3, 6, 3, 1, 5, 6, 2, 3, 1, 1, 1, 2, 5, 6, 3, 2, 6, 1, 1, 5, 3, 1, 5, 3, 3, 5, 2, 1, 5, 5, 6, 4, 1, 4, 4, 2, 2, 4, 3, 3, 3, 1, 1, 5, 6, 1, 2, 2, 5, 6, 1, 1, 6, 3, 2, 5, 1, 6, 2, 1, 1, 2, 5, 5, 3, 6, 2, 4, 2, 4, 3, 1, 1, 5, 1, 5, 6, 4, 3, 6, 1, 2, 1, 4, 4, 1, 1, 5, 5, 2, 5, 3, 2, 2, 1, 6, 4, 6, 4, 5, 3, 5, 5, 3, 6, 4, 2, 5, 6, 4, 5, 5, 3, 3, 3, 2, 3, 2, 4, 1, 5, 6, 6, 2, 2, 5, 5, 2, 5, 6, 4, 6, 3, 5, 2, 3, 1, 5, 5, 6, 2, 1, 3, 5, 1, 1, 3, 6, 5, 5, 2, 1, 5, 2, 2, 5, 6, 3, 3, 5, 3, 3, 5, 1, 5, 1, 3, 5, 2, 4, 1, 6, 5, 6, 4, 3, 5, 2, 1, 6, 1, 5, 3, 6, 5, 6, 4, 1, 4, 2, 4, 4, 1, 3, 4, 3, 5, 6, 4, 4, 1, 2, 6, 1, 3, 2, 5, 2, 2, 3, 2, 4, 4, 5, 2, 6, 4, 1, 4, 6, 3, 5, 2, 5, 3, 1, 6, 6, 4, 2, 3, 1, 1, 6, 1, 3, 6, 1, 4, 5, 6, 5, 6, 6, 5, 2, 6, 3, 6, 3, 2, 4, 2, 6, 2, 5, 4, 1, 4, 4, 5, 4, 5, 6, 1, 4, 3, 6, 2, 4, 4, 5, 3, 4, 5, 3, 5, 5, 1, 1, 3, 4, 4, 4, 6, 5, 3, 6, 5, 2, 4, 4, 1, 3, 3, 5, 4, 2, 6, 6, 4, 4, 5, 3, 3, 3, 6, 6, 6, 4, 3, 4, 1, 3, 4, 3, 6, 1, 6, 2, 3, 3, 1, 1, 6, 2, 6, 5, 2, 3, 1, 2, 6, 2, 1, 4, 3, 2, 4, 3, 5, 1, 5, 2, 1, 5, 5, 5, 4, 5, 5, 2, 2, 6, 3, 2, 5, 3, 2, 1, 6, 4, 1, 4, 1, 6, 4, 1, 5, 2, 5, 3, 5, 2, 2, 6, 3, 5, 4, 5, 2, 6, 5, 5, 3, 1, 4, 5, 6, 1, 3, 4, 3, 3, 3, 4, 4, 1, 2, 5, 4, 5, 5, 1, 2, 6, 6, 1, 6, 2, 6, 6, 4, 2, 6, 5, 4, 2, 2, 5, 6, 6, 5, 3, 5, 2, 6, 4, 1, 5, 2, 2, 3, 3, 2, 5, 4, 1, 1, 3, 6, 1, 2, 2, 1, 2, 3, 3, 2, 2, 2, 1, 5, 4, 6, 6, 4, 4, 2, 6, 4, 3, 2, 4, 2, 2, 1, 5, 2, 3, 5, 4, 4, 3, 2, 1, 4, 5, 2, 6, 2, 6, 5, 3, 5, 5, 3, 5, 3, 1, 1, 1, 2, 3, 6, 3, 6, 5, 4, 3, 2, 3, 5, 1, 6, 1, 3, 5, 6, 5, 1, 3, 2, 6, 3, 1, 6, 1, 4, 3, 3, 5, 1, 4, 5, 2, 4, 5, 3, 1, 5, 3, 5, 5, 1, 2, 5, 4, 6, 5, 3, 2, 6, 6, 6, 3, 2, 3, 4, 1, 3, 6, 3, 3, 2, 4, 4, 4, 2, 1, 5, 4, 6, 4, 3, 1, 5, 5, 2, 4, 6, 2, 6, 6, 6, 2, 4, 3, 5, 5, 6, 4, 4, 3, 1, 3, 6, 2, 2, 6, 2, 3, 5, 3, 4, 6, 1, 3, 3, 2, 3, 5, 3, 3, 2, 1, 6, 1, 5, 4, 5, 2, 1, 3, 2, 4, 6, 6, 6, 2, 4, 3, 4, 5, 1, 6, 5, 5, 1, 5, 1, 1, 5, 4, 1, 6, 6, 6, 2, 4, 1, 4, 2, 1, 6, 6, 6, 3, 2, 1, 5, 6, 5, 2, 3, 1, 1, 3, 1, 1, 6, 3, 2, 4, 2, 2, 4, 6, 1, 2, 3, 1, 3, 5, 5, 4, 4, 4, 3, 6, 3, 2, 2, 6, 5, 3, 2, 3, 2, 3, 1, 2, 1, 3, 6, 3, 2, 2, 3, 2, 2, 2, 3, 4, 4, 6, 4, 6, 5, 1, 2, 6, 3, 3, 6, 2, 1, 1, 4, 4, 5, 6, 6, 5, 3, 6, 4, 6, 5, 2, 2, 5, 6, 4, 1, 6, 1, 6, 1, 1, 3, 6, 1, 5, 6, 2, 5, 2, 1, 3, 6, 5, 5, 6, 6, 2, 5, 2, 5, 6, 2, 4, 1, 3, 2, 6, 1, 2, 1, 4, 3, 6, 4, 3, 2, 2, 2, 4, 5, 2, 1, 2, 1, 4, 6, 3, 3, 2, 5, 3, 5, 6, 1, 2, 3, 3, 4, 2, 1, 5, 5, 1, 4, 5, 5, 3, 1, 2, 6, 3, 3, 1, 1, 3, 6, 5, 1, 4, 5]\n"
     ]
    }
   ],
   "source": [
    "import random\n",
    "dice=[]\n",
    "for i in range(1000):\n",
    "    dice.append(random.randint(1,6))\n",
    "plt.hist(dice,bins=6)\n",
    "plt.show()\n",
    "print(dice)"
   ]
  },
  {
   "cell_type": "code",
   "execution_count": null,
   "metadata": {},
   "outputs": [],
   "source": []
  }
 ],
 "metadata": {
  "kernelspec": {
   "display_name": "Python 3",
   "language": "python",
   "name": "python3"
  },
  "language_info": {
   "codemirror_mode": {
    "name": "ipython",
    "version": 3
   },
   "file_extension": ".py",
   "mimetype": "text/x-python",
   "name": "python",
   "nbconvert_exporter": "python",
   "pygments_lexer": "ipython3",
   "version": "3.8.8"
  }
 },
 "nbformat": 4,
 "nbformat_minor": 4
}
