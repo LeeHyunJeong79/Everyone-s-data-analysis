{
 "cells": [
  {
   "cell_type": "code",
   "execution_count": 3,
   "metadata": {},
   "outputs": [
    {
     "name": "stdout",
     "output_type": "stream",
     "text": [
      "2021/01/23 12.2\n"
     ]
    }
   ],
   "source": [
    "#서울의 최고 기온 분석하기 51\n",
    "import csv\n",
    "f=open('seoul.csv')  \n",
    "data=csv.reader(f)\n",
    "header=next(data) #next( ) 함수를 사용하여 헤더 데이터 행을 저장\n",
    "max_temp=-999 #최고 기온\n",
    "max_data='' #최고 기온의 날짜\n",
    "for row in data:  \n",
    "    if row[-1]=='': #빈 문자열 확인\n",
    "        row[-1]=-999 #빈 문자열인 경우 –999 저장\n",
    "    row[-1]=float(row[-1]) #숫자 데이터(실수형)로 변환 후 저장\n",
    "    #print(row) #기온 데이터 출력\n",
    "    if max_temp<row[-1]:\n",
    "        max_temp=row[-1]\n",
    "        max_data=row[0]\n",
    "f.close()\n",
    "print(max_data,max_temp)"
   ]
  },
  {
   "cell_type": "code",
   "execution_count": null,
   "metadata": {},
   "outputs": [],
   "source": []
  }
 ],
 "metadata": {
  "kernelspec": {
   "display_name": "Python 3",
   "language": "python",
   "name": "python3"
  },
  "language_info": {
   "codemirror_mode": {
    "name": "ipython",
    "version": 3
   },
   "file_extension": ".py",
   "mimetype": "text/x-python",
   "name": "python",
   "nbconvert_exporter": "python",
   "pygments_lexer": "ipython3",
   "version": "3.8.5"
  }
 },
 "nbformat": 4,
 "nbformat_minor": 4
}
