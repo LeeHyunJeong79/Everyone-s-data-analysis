{
 "cells": [
  {
   "cell_type": "code",
   "execution_count": 8,
   "metadata": {},
   "outputs": [
    {
     "name": "stdout",
     "output_type": "stream",
     "text": [
      "궁금한 동네를 입력해주세요.:동안구 부흥동\n",
      "[-6, 11, 15, 7, 17, 36, 4, 10, 1, -14, 28, 3, 14, 26, 14, -7, -6, -10, 39, 40, -18, 10, 20, -15, 32, 17, 23, -5, -8, 1, 1, -20, -10, -5, -1, 9, -13, -16, -29, -47, -40, -4, 14, -50, -75, -7, 5, -28, -16, -43, -17, 8, 27, -3, -9, -6, -5, -12, -33, -16, -14, -31, -32, -28, -34, -24, 20, 5, 6, 17, -27, -10, -8, -18, 0, -7, -37, -15, -4, -12, -11, -6, -27, -22, -23, -21, -29, -17, -21, -13, -13, -6, -6, -2, -3, -5, -1, 1, 0, -1, 0]\n"
     ]
    }
   ],
   "source": [
    "#143 데이터 출력하기\n",
    "import csv\n",
    "f=open('gender.csv')\n",
    "data=csv.reader(f)\n",
    "result=[]\n",
    "name=input(\"궁금한 동네를 입력해주세요.:\")\n",
    "for row in data:\n",
    "    if name in row[0]: #동네이름이 있을 경우\n",
    "        for i in range(3,104): #3열(남0세)~103열(남100세)\n",
    "            result.append(int(row[i])-int(row[i+103]))\n",
    "print(result)\n",
    "f.close()"
   ]
  },
  {
   "cell_type": "code",
   "execution_count": 9,
   "metadata": {},
   "outputs": [
    {
     "data": {
      "image/png": "[encoded data removed]",
      "text/plain": [
       "<Figure size 432x288 with 1 Axes>"
      ]
     },
     "metadata": {
      "needs_background": "light"
     },
     "output_type": "display_data"
    }
   ],
   "source": [
    "#143 막대그래프 그리기\n",
    "import matplotlib.pyplot as plt\n",
    "plt.bar(range(101),result)\n",
    "plt.show()"
   ]
  },
  {
   "cell_type": "code",
   "execution_count": null,
   "metadata": {},
   "outputs": [],
   "source": []
  }
 ],
 "metadata": {
  "kernelspec": {
   "display_name": "Python 3",
   "language": "python",
   "name": "python3"
  },
  "language_info": {
   "codemirror_mode": {
    "name": "ipython",
    "version": 3
   },
   "file_extension": ".py",
   "mimetype": "text/x-python",
   "name": "python",
   "nbconvert_exporter": "python",
   "pygments_lexer": "ipython3",
   "version": "3.8.5"
  }
 },
 "nbformat": 4,
 "nbformat_minor": 4
}
